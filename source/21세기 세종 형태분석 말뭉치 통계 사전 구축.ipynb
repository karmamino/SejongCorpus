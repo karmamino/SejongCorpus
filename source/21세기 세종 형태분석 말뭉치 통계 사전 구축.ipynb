{
 "cells": [
  {
   "cell_type": "code",
   "execution_count": 3,
   "metadata": {
    "collapsed": false
   },
   "outputs": [],
   "source": [
    "import sys\n",
    "from utils import load, get_sentences, load_processed_corpus, tageojeol_to_tuple\n",
    "from hangle import decompose, compose, moum_begin, moum_end, jaum_begin, jaum_end, kor_begin, kor_end"
   ]
  },
  {
   "cell_type": "code",
   "execution_count": 4,
   "metadata": {
    "collapsed": false
   },
   "outputs": [
    {
     "data": {
      "text/plain": [
       "446"
      ]
     },
     "execution_count": 4,
     "metadata": {},
     "output_type": "execute_result"
    }
   ],
   "source": [
    "import glob\n",
    "tagged_corpus = glob.glob('../sejong/*')\n",
    "len(tagged_corpus)"
   ]
  },
  {
   "cell_type": "markdown",
   "metadata": {},
   "source": [
    "## 인코딩 확인"
   ]
  },
  {
   "cell_type": "code",
   "execution_count": 9,
   "metadata": {
    "collapsed": false
   },
   "outputs": [
    {
     "name": "stdout",
     "output_type": "stream",
     "text": [
      "ERROR: ../sejong\\BTAE0201.txt: 'utf-16-le' codec can't decode bytes in position 2172-2173: illegal encoding\n"
     ]
    }
   ],
   "source": [
    "for file_name in tagged_corpus:    \n",
    "    try:\n",
    "        lines = load(file_name)\n",
    "    except Exception as e:\n",
    "        print('ERROR: %s: %s' % (file_name, str(e)))\n",
    "        continue"
   ]
  },
  {
   "cell_type": "markdown",
   "metadata": {},
   "source": [
    "## XML 태그 제거"
   ]
  },
  {
   "cell_type": "code",
   "execution_count": 6,
   "metadata": {
    "collapsed": true
   },
   "outputs": [],
   "source": [
    "def summary(sentences):\n",
    "    s_ = []\n",
    "    for sentence in sentences:\n",
    "        text, tagged = zip(*sentence)\n",
    "        s_.append('%s\\t%s' % (' '.join(text), ' '.join(tagged)))\n",
    "    return s_"
   ]
  },
  {
   "cell_type": "code",
   "execution_count": 7,
   "metadata": {
    "collapsed": false
   },
   "outputs": [
    {
     "name": "stdout",
     "output_type": "stream",
     "text": [
      "ERROR: ../sejong\\BTAE0201.txt: 'utf-16-le' codec can't decode bytes in position 2172-2173: illegal encoding\n"
     ]
    }
   ],
   "source": [
    "import os\n",
    "for file_path in tagged_corpus:        \n",
    "    directory = ('../refinement')\n",
    "    if not os.path.exists(directory):\n",
    "        os.makedirs(directory)\n",
    "    refinement_file_path = \"{0:s}/{1:s}\".format(directory, os.path.split(file_path)[-1])    \n",
    "    try:\n",
    "        sentences = get_sentences(file_path)\n",
    "        sentences = summary(sentences)\n",
    "    except Exception as e:\n",
    "        print('ERROR: %s: %s' % (file_path, str(e)))\n",
    "    with open(refinement_file_path, 'w', encoding='utf-8') as f:\n",
    "        for sentence in sentences:\n",
    "            f.write('%s\\n' % sentence)"
   ]
  },
  {
   "cell_type": "code",
   "execution_count": 8,
   "metadata": {
    "collapsed": false
   },
   "outputs": [
    {
     "data": {
      "text/plain": [
       "'프랑스의 세계적인 의상 디자이너 엠마누엘 웅가로가 실내 장식용 직물 디자이너로 나섰다.\\t프랑스/NNP+의/JKG 세계/NNG+적/XSN+이/VCP+ᆫ/ETM 의상/NNG 디자이너/NNG 엠마누엘/NNP 웅가로/NNP+가/JKS 실내/NNG 장식/NNG+용/XSN 직물/NNG 디자이너/NNG+로/JKB 나서/VV+었/EP+다/EF+./SF\\n'"
      ]
     },
     "execution_count": 8,
     "metadata": {},
     "output_type": "execute_result"
    }
   ],
   "source": [
    "refinement_corpus = glob.glob('../refinement/*')\n",
    "with open(refinement_corpus[0], encoding='utf-8') as f:\n",
    "    line = f.readline()\n",
    "line"
   ]
  }
 ],
 "metadata": {
  "anaconda-cloud": {},
  "kernelspec": {
   "display_name": "Python [default]",
   "language": "python",
   "name": "python3"
  },
  "language_info": {
   "codemirror_mode": {
    "name": "ipython",
    "version": 3
   },
   "file_extension": ".py",
   "mimetype": "text/x-python",
   "name": "python",
   "nbconvert_exporter": "python",
   "pygments_lexer": "ipython3",
   "version": "3.5.2"
  }
 },
 "nbformat": 4,
 "nbformat_minor": 1
}
