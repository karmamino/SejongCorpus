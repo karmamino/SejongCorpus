{
 "cells": [
  {
   "cell_type": "markdown",
   "metadata": {},
   "source": [
    "## 21세기 세종 형태분석 말뭉치 통계 사전 구축 과정\n"
   ]
  },
  {
   "cell_type": "code",
   "execution_count": 137,
   "metadata": {
    "collapsed": false
   },
   "outputs": [],
   "source": [
    "import sys\n",
    "from utils import load, get_sentences, load_processed_corpus, tageojeol_to_tuple\n",
    "from hangle import decompose, compose, moum_begin, moum_end, jaum_begin, jaum_end, kor_begin, kor_end"
   ]
  },
  {
   "cell_type": "code",
   "execution_count": 116,
   "metadata": {
    "collapsed": false
   },
   "outputs": [
    {
     "data": {
      "text/plain": [
       "446"
      ]
     },
     "execution_count": 116,
     "metadata": {},
     "output_type": "execute_result"
    }
   ],
   "source": [
    "import glob\n",
    "tagged_corpus = glob.glob('../sejong/*')\n",
    "len(tagged_corpus)"
   ]
  },
  {
   "cell_type": "code",
   "execution_count": 125,
   "metadata": {
    "collapsed": false
   },
   "outputs": [
    {
     "name": "stdout",
     "output_type": "stream",
     "text": [
      "ERROR: ../sejong\\BTAE0201.txt: 'utf-16-le' codec can't decode bytes in position 2172-2173: illegal encoding\n"
     ]
    }
   ],
   "source": [
    "for file_name in tagged_corpus:    \n",
    "    try:\n",
    "        lines = load(file_name)\n",
    "    except Exception as e:\n",
    "        print('ERROR: %s: %s' % (file_name, str(e)))\n",
    "        continue"
   ]
  },
  {
   "cell_type": "markdown",
   "metadata": {},
   "source": [
    "# XML 태그 제거"
   ]
  },
  {
   "cell_type": "code",
   "execution_count": 202,
   "metadata": {
    "collapsed": true
   },
   "outputs": [],
   "source": [
    "def summary(sentences):\n",
    "    s_ = []\n",
    "    for sentence in sentences:\n",
    "        text, tagged = zip(*sentence)\n",
    "        s_.append('%s\\t%s' % (' '.join(text), ' '.join(tagged)))\n",
    "    return s_"
   ]
  },
  {
   "cell_type": "code",
   "execution_count": 203,
   "metadata": {
    "collapsed": false
   },
   "outputs": [
    {
     "name": "stdout",
     "output_type": "stream",
     "text": [
      "ERROR: ../sejong\\BTAE0201.txt: 'utf-16-le' codec can't decode bytes in position 2172-2173: illegal encoding\n"
     ]
    }
   ],
   "source": [
    "import os\n",
    "for file_path in tagged_corpus:        \n",
    "    directory = ('../refinement')\n",
    "    if not os.path.exists(directory):\n",
    "        os.makedirs(directory)\n",
    "    refinement_file_path = \"{0:s}/{1:s}\".format(directory, os.path.split(file_path)[-1])    \n",
    "    try:\n",
    "        sentences = get_sentences(file_path)\n",
    "        sentences = summary(sentences)\n",
    "    except Exception as e:\n",
    "        print('ERROR: %s: %s' % (file_path, str(e)))\n",
    "    with open(refinement_file_path, 'w', encoding='utf-8') as f:\n",
    "        for sentence in sentences:\n",
    "            f.write('%s\\n' % sentence)"
   ]
  },
  {
   "cell_type": "code",
   "execution_count": 204,
   "metadata": {
    "collapsed": false
   },
   "outputs": [
    {
     "data": {
      "text/plain": [
       "'프랑스의 세계적인 의상 디자이너 엠마누엘 웅가로가 실내 장식용 직물 디자이너로 나섰다.\\t프랑스/NNP+의/JKG 세계/NNG+적/XSN+이/VCP+ᆫ/ETM 의상/NNG 디자이너/NNG 엠마누엘/NNP 웅가로/NNP+가/JKS 실내/NNG 장식/NNG+용/XSN 직물/NNG 디자이너/NNG+로/JKB 나서/VV+었/EP+다/EF+./SF\\n'"
      ]
     },
     "execution_count": 204,
     "metadata": {},
     "output_type": "execute_result"
    }
   ],
   "source": [
    "refinement_corpus = glob.glob('../refinement/*')\n",
    "with open(refinement_corpus[0], encoding='utf-8') as f:\n",
    "    line = f.readline()\n",
    "line"
   ]
  },
  {
   "cell_type": "markdown",
   "metadata": {},
   "source": [
    "# 형태소 단위로 변환"
   ]
  },
  {
   "cell_type": "code",
   "execution_count": 209,
   "metadata": {
    "collapsed": false
   },
   "outputs": [],
   "source": [
    "def is_all_complete_hangle(eojeol):\n",
    "    for char in eojeol:\n",
    "        if not (kor_begin <= ord(char) <= kor_end):\n",
    "            return False\n",
    "    return True\n",
    "\n",
    "def to_lr(e, w, t):\n",
    "    tag = t[0][0]\n",
    "    i = 0\n",
    "    for i_, ti in enumerate(t):\n",
    "        if t[0][0] == 'N' and ti[0] == 'V':\n",
    "            break\n",
    "        if t[0][0] == 'V' and (ti == 'ETN' and len(w[i_]) == 1 and jaum_begin <= ord(w[i_][0]) <= jaum_end):\n",
    "            tag = 'N'\n",
    "            break\n",
    "        if not (ti[0] == 'N' or ti == 'XSN' or ti[:2] == 'VV' or ti[:2] == 'VA' or ti == 'XR'):\n",
    "            break\n",
    "        i = i_\n",
    "    lw = e[:len(''.join(w[:i+1]))]\n",
    "    r = e[len(lw):]\n",
    "    \n",
    "    # 아빤 = 아빠/N + ㄴ/J\n",
    "    # 갈꺼야 = 가/V + ㄹ/E + 꺼야/E\n",
    "    if (t[i][0] == 'N' or t[i][0] == 'V') and (jaum_begin <= ord(w[i+1][0]) <= jaum_end):\n",
    "        last_l = decompose(lw[-1])\n",
    "        l0 = lw[:-1] + compose(last_l[0], last_l[1], ' ')\n",
    "        return lw, r, tag, l0\n",
    "\n",
    "    # 가? = 가/V + ㅏ/E + ?/S\n",
    "    # 먹었어 = 먹/V + 었어/E\n",
    "    return lw, r, tag.replace('X','N'), ''.join(w[:i+1])\n",
    "\n",
    "def is_compound_noun(t):\n",
    "    if len(t) <= 1:\n",
    "        return False\n",
    "    n_count = len([ti for ti in t if ti[0] == 'N' or ti == 'XSN'])\n",
    "    if len(t) == n_count:\n",
    "        return True\n",
    "    if n_count <= 1:\n",
    "        return False\n",
    "    if t[0][0] == 'N' and [-1][0] == 'N':\n",
    "        return True\n",
    "        \n",
    "def print_tolr(args):\n",
    "    print('L=%s, R=%s, tag=%s, L(원형)=%s' % args)"
   ]
  },
  {
   "cell_type": "code",
   "execution_count": 210,
   "metadata": {
    "collapsed": false
   },
   "outputs": [],
   "source": [
    "directory = ('../db')\n",
    "if not os.path.exists(directory):\n",
    "    os.makedirs(directory)"
   ]
  },
  {
   "cell_type": "code",
   "execution_count": 213,
   "metadata": {
    "collapsed": true
   },
   "outputs": [],
   "source": [
    "with open('../db/lrdb.csv', 'w', encoding='utf-8') as f:\n",
    "    f.write('%s\\n' % '\\t'.join(['eojeol', 'l', 'r', 'tag', 'lstemmed']))\n",
    "    for fname in refinement_corpus:\n",
    "        texts, texttags = load_processed_corpus(fname)\n",
    "        for text, tag in zip(texts, texttags):\n",
    "            for eojeol, eojeoltag in zip(text.split(), tag.split()):\n",
    "                if not is_all_complete_hangle(eojeol):\n",
    "                    continue\n",
    "                    \n",
    "                try:\n",
    "                    w, t = tageojeol_to_tuple(eojeoltag)\n",
    "                except:\n",
    "                    continue\n",
    "                \n",
    "                if len(t) <= 1:\n",
    "                    continue\n",
    "                if (t[0][0] != 'N' and t[0][0] != 'V'):\n",
    "                    continue\n",
    "                if is_compound_noun(t):\n",
    "                    continue\n",
    "\n",
    "                try:\n",
    "                    l, r, y, l0 = to_lr(eojeol, w, t)\n",
    "                    f.write('%s\\n' % '\\t'.join([eojeol, l, r, y, l0]))\n",
    "                except:\n",
    "                    continue"
   ]
  },
  {
   "cell_type": "code",
   "execution_count": 219,
   "metadata": {
    "collapsed": false,
    "scrolled": false
   },
   "outputs": [
    {
     "data": {
      "text/html": [
       "<div>\n",
       "<table border=\"1\" class=\"dataframe\">\n",
       "  <thead>\n",
       "    <tr style=\"text-align: right;\">\n",
       "      <th></th>\n",
       "      <th>eojeol</th>\n",
       "      <th>l</th>\n",
       "      <th>r</th>\n",
       "      <th>tag</th>\n",
       "      <th>lstemmed</th>\n",
       "    </tr>\n",
       "  </thead>\n",
       "  <tbody>\n",
       "    <tr>\n",
       "      <th>0</th>\n",
       "      <td>프랑스의</td>\n",
       "      <td>프랑스</td>\n",
       "      <td>의</td>\n",
       "      <td>N</td>\n",
       "      <td>프랑스</td>\n",
       "    </tr>\n",
       "    <tr>\n",
       "      <th>1</th>\n",
       "      <td>세계적인</td>\n",
       "      <td>세계적</td>\n",
       "      <td>인</td>\n",
       "      <td>N</td>\n",
       "      <td>세계적</td>\n",
       "    </tr>\n",
       "    <tr>\n",
       "      <th>2</th>\n",
       "      <td>웅가로가</td>\n",
       "      <td>웅가로</td>\n",
       "      <td>가</td>\n",
       "      <td>N</td>\n",
       "      <td>웅가로</td>\n",
       "    </tr>\n",
       "    <tr>\n",
       "      <th>3</th>\n",
       "      <td>디자이너로</td>\n",
       "      <td>디자이너</td>\n",
       "      <td>로</td>\n",
       "      <td>N</td>\n",
       "      <td>디자이너</td>\n",
       "    </tr>\n",
       "    <tr>\n",
       "      <th>4</th>\n",
       "      <td>웅가로는</td>\n",
       "      <td>웅가로</td>\n",
       "      <td>는</td>\n",
       "      <td>N</td>\n",
       "      <td>웅가로</td>\n",
       "    </tr>\n",
       "  </tbody>\n",
       "</table>\n",
       "</div>"
      ],
      "text/plain": [
       "  eojeol     l  r tag lstemmed\n",
       "0   프랑스의   프랑스  의   N      프랑스\n",
       "1   세계적인   세계적  인   N      세계적\n",
       "2   웅가로가   웅가로  가   N      웅가로\n",
       "3  디자이너로  디자이너  로   N     디자이너\n",
       "4   웅가로는   웅가로  는   N      웅가로"
      ]
     },
     "execution_count": 219,
     "metadata": {},
     "output_type": "execute_result"
    }
   ],
   "source": [
    "import pandas as pd\n",
    "df = pd.read_csv('../db/lrdb.csv', sep='\\t', encoding='utf-8')\n",
    "df.head()"
   ]
  },
  {
   "cell_type": "code",
   "execution_count": null,
   "metadata": {
    "collapsed": true
   },
   "outputs": [],
   "source": []
  }
 ],
 "metadata": {
  "anaconda-cloud": {},
  "kernelspec": {
   "display_name": "Python [default]",
   "language": "python",
   "name": "python3"
  },
  "language_info": {
   "codemirror_mode": {
    "name": "ipython",
    "version": 3
   },
   "file_extension": ".py",
   "mimetype": "text/x-python",
   "name": "python",
   "nbconvert_exporter": "python",
   "pygments_lexer": "ipython3",
   "version": "3.5.2"
  }
 },
 "nbformat": 4,
 "nbformat_minor": 1
}
