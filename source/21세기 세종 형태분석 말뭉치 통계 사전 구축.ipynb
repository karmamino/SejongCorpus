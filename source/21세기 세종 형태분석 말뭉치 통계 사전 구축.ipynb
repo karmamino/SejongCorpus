{
 "cells": [
  {
   "cell_type": "code",
   "execution_count": 3,
   "metadata": {
    "collapsed": false
   },
   "outputs": [],
   "source": [
    "import sys\n",
    "from utils import load, get_sentences, load_processed_corpus, tageojeol_to_tuple\n",
    "from hangle import decompose, compose, moum_begin, moum_end, jaum_begin, jaum_end, kor_begin, kor_end"
   ]
  },
  {
   "cell_type": "code",
   "execution_count": 4,
   "metadata": {
    "collapsed": false
   },
   "outputs": [
    {
     "data": {
      "text/plain": [
       "446"
      ]
     },
     "execution_count": 4,
     "metadata": {},
     "output_type": "execute_result"
    }
   ],
   "source": [
    "import glob\n",
    "tagged_corpus = glob.glob('../sejong/*')\n",
    "len(tagged_corpus)"
   ]
  },
  {
   "cell_type": "markdown",
   "metadata": {},
   "source": [
    "## 인코딩 확인"
   ]
  },
  {
   "cell_type": "code",
   "execution_count": 9,
   "metadata": {
    "collapsed": false
   },
   "outputs": [
    {
     "name": "stdout",
     "output_type": "stream",
     "text": [
      "ERROR: ../sejong\\BTAE0201.txt: 'utf-16-le' codec can't decode bytes in position 2172-2173: illegal encoding\n"
     ]
    }
   ],
   "source": [
    "for file_name in tagged_corpus:    \n",
    "    try:\n",
    "        lines = load(file_name)\n",
    "    except Exception as e:\n",
    "        print('ERROR: %s: %s' % (file_name, str(e)))\n",
    "        continue"
   ]
  },
  {
   "cell_type": "markdown",
   "metadata": {},
   "source": [
    "## XML 태그 제거"
   ]
  },
  {
   "cell_type": "code",
   "execution_count": 6,
   "metadata": {
    "collapsed": true
   },
   "outputs": [],
   "source": [
    "def summary(sentences):\n",
    "    s_ = []\n",
    "    for sentence in sentences:\n",
    "        text, tagged = zip(*sentence)\n",
    "        s_.append('%s\\t%s' % (' '.join(text), ' '.join(tagged)))\n",
    "    return s_"
   ]
  },
  {
   "cell_type": "code",
   "execution_count": 7,
   "metadata": {
    "collapsed": false
   },
   "outputs": [
    {
     "name": "stdout",
     "output_type": "stream",
     "text": [
      "ERROR: ../sejong\\BTAE0201.txt: 'utf-16-le' codec can't decode bytes in position 2172-2173: illegal encoding\n"
     ]
    }
   ],
   "source": [
    "import os\n",
    "for file_path in tagged_corpus:        \n",
    "    directory = ('../refinement')\n",
    "    if not os.path.exists(directory):\n",
    "        os.makedirs(directory)\n",
    "    refinement_file_path = \"{0:s}/{1:s}\".format(directory, os.path.split(file_path)[-1])    \n",
    "    try:\n",
    "        sentences = get_sentences(file_path)\n",
    "        sentences = summary(sentences)\n",
    "    except Exception as e:\n",
    "        print('ERROR: %s: %s' % (file_path, str(e)))\n",
    "    with open(refinement_file_path, 'w', encoding='utf-8') as f:\n",
    "        for sentence in sentences:\n",
    "            f.write('%s\\n' % sentence)"
   ]
  },
  {
   "cell_type": "code",
   "execution_count": 8,
   "metadata": {
    "collapsed": false
   },
   "outputs": [
    {
     "data": {
      "text/plain": [
       "'프랑스의 세계적인 의상 디자이너 엠마누엘 웅가로가 실내 장식용 직물 디자이너로 나섰다.\\t프랑스/NNP+의/JKG 세계/NNG+적/XSN+이/VCP+ᆫ/ETM 의상/NNG 디자이너/NNG 엠마누엘/NNP 웅가로/NNP+가/JKS 실내/NNG 장식/NNG+용/XSN 직물/NNG 디자이너/NNG+로/JKB 나서/VV+었/EP+다/EF+./SF\\n'"
      ]
     },
     "execution_count": 8,
     "metadata": {},
     "output_type": "execute_result"
    }
   ],
   "source": [
    "refinement_corpus = glob.glob('../refinement/*')\n",
    "with open(refinement_corpus[0], encoding='utf-8') as f:\n",
    "    line = f.readline()\n",
    "line"
   ]
  },
  {
   "cell_type": "markdown",
   "metadata": {},
   "source": [
    "## 형태소 단위로 변환"
   ]
  },
  {
   "cell_type": "code",
   "execution_count": 10,
   "metadata": {
    "collapsed": true
   },
   "outputs": [],
   "source": [
    "def is_all_complete_hangle(eojeol):\n",
    "    for char in eojeol:\n",
    "        if not (kor_begin <= ord(char) <= kor_end):\n",
    "            return False\n",
    "    return True\n",
    "\n",
    "def to_lr(e, w, t):\n",
    "    tag = t[0][0]\n",
    "    i = 0\n",
    "    for i_, ti in enumerate(t):\n",
    "        if t[0][0] == 'N' and ti[0] == 'V':\n",
    "            break\n",
    "        if t[0][0] == 'V' and (ti == 'ETN' and len(w[i_]) == 1 and jaum_begin <= ord(w[i_][0]) <= jaum_end):\n",
    "            tag = 'N'\n",
    "            break\n",
    "        if not (ti[0] == 'N' or ti == 'XSN' or ti[:2] == 'VV' or ti[:2] == 'VA' or ti == 'XR'):\n",
    "            break\n",
    "        i = i_\n",
    "    lw = e[:len(''.join(w[:i+1]))]\n",
    "    r = e[len(lw):]\n",
    "    \n",
    "    # 아빤 = 아빠/N + ㄴ/J\n",
    "    # 갈꺼야 = 가/V + ㄹ/E + 꺼야/E\n",
    "    if (t[i][0] == 'N' or t[i][0] == 'V') and (jaum_begin <= ord(w[i+1][0]) <= jaum_end):\n",
    "        last_l = decompose(lw[-1])\n",
    "        l0 = lw[:-1] + compose(last_l[0], last_l[1], ' ')\n",
    "        return lw, r, tag, l0\n",
    "\n",
    "    # 가? = 가/V + ㅏ/E + ?/S\n",
    "    # 먹었어 = 먹/V + 었어/E\n",
    "    return lw, r, tag.replace('X','N'), ''.join(w[:i+1])\n",
    "\n",
    "def is_compound_noun(t):\n",
    "    if len(t) <= 1:\n",
    "        return False\n",
    "    n_count = len([ti for ti in t if ti[0] == 'N' or ti == 'XSN'])\n",
    "    if len(t) == n_count:\n",
    "        return True\n",
    "    if n_count <= 1:\n",
    "        return False\n",
    "    if t[0][0] == 'N' and [-1][0] == 'N':\n",
    "        return True\n",
    "        \n",
    "def print_tolr(args):\n",
    "    print('L=%s, R=%s, tag=%s, L(원형)=%s' % args)"
   ]
  },
  {
   "cell_type": "code",
   "execution_count": 11,
   "metadata": {
    "collapsed": true
   },
   "outputs": [],
   "source": [
    "directory = ('../db')\n",
    "if not os.path.exists(directory):\n",
    "    os.makedirs(directory)"
   ]
  },
  {
   "cell_type": "code",
   "execution_count": 12,
   "metadata": {
    "collapsed": false
   },
   "outputs": [
    {
     "ename": "ValueError",
     "evalue": "too many values to unpack (expected 2)",
     "output_type": "error",
     "traceback": [
      "\u001b[0;31m---------------------------------------------------------------------------\u001b[0m",
      "\u001b[0;31mValueError\u001b[0m                                Traceback (most recent call last)",
      "\u001b[0;32m<ipython-input-12-6d97ed50ef9a>\u001b[0m in \u001b[0;36m<module>\u001b[0;34m()\u001b[0m\n\u001b[1;32m      2\u001b[0m     \u001b[0mf\u001b[0m\u001b[1;33m.\u001b[0m\u001b[0mwrite\u001b[0m\u001b[1;33m(\u001b[0m\u001b[1;34m'%s\\n'\u001b[0m \u001b[1;33m%\u001b[0m \u001b[1;34m'\\t'\u001b[0m\u001b[1;33m.\u001b[0m\u001b[0mjoin\u001b[0m\u001b[1;33m(\u001b[0m\u001b[1;33m[\u001b[0m\u001b[1;34m'eojeol'\u001b[0m\u001b[1;33m,\u001b[0m \u001b[1;34m'l'\u001b[0m\u001b[1;33m,\u001b[0m \u001b[1;34m'r'\u001b[0m\u001b[1;33m,\u001b[0m \u001b[1;34m'tag'\u001b[0m\u001b[1;33m,\u001b[0m \u001b[1;34m'lstemmed'\u001b[0m\u001b[1;33m]\u001b[0m\u001b[1;33m)\u001b[0m\u001b[1;33m)\u001b[0m\u001b[1;33m\u001b[0m\u001b[0m\n\u001b[1;32m      3\u001b[0m     \u001b[1;32mfor\u001b[0m \u001b[0mfname\u001b[0m \u001b[1;32min\u001b[0m \u001b[0mrefinement_corpus\u001b[0m\u001b[1;33m:\u001b[0m\u001b[1;33m\u001b[0m\u001b[0m\n\u001b[0;32m----> 4\u001b[0;31m         \u001b[0mtexts\u001b[0m\u001b[1;33m,\u001b[0m \u001b[0mtexttags\u001b[0m \u001b[1;33m=\u001b[0m \u001b[0mload_processed_corpus\u001b[0m\u001b[1;33m(\u001b[0m\u001b[0mfname\u001b[0m\u001b[1;33m)\u001b[0m\u001b[1;33m\u001b[0m\u001b[0m\n\u001b[0m\u001b[1;32m      5\u001b[0m         \u001b[1;32mfor\u001b[0m \u001b[0mtext\u001b[0m\u001b[1;33m,\u001b[0m \u001b[0mtag\u001b[0m \u001b[1;32min\u001b[0m \u001b[0mzip\u001b[0m\u001b[1;33m(\u001b[0m\u001b[0mtexts\u001b[0m\u001b[1;33m,\u001b[0m \u001b[0mtexttags\u001b[0m\u001b[1;33m)\u001b[0m\u001b[1;33m:\u001b[0m\u001b[1;33m\u001b[0m\u001b[0m\n\u001b[1;32m      6\u001b[0m             \u001b[1;32mfor\u001b[0m \u001b[0meojeol\u001b[0m\u001b[1;33m,\u001b[0m \u001b[0meojeoltag\u001b[0m \u001b[1;32min\u001b[0m \u001b[0mzip\u001b[0m\u001b[1;33m(\u001b[0m\u001b[0mtext\u001b[0m\u001b[1;33m.\u001b[0m\u001b[0msplit\u001b[0m\u001b[1;33m(\u001b[0m\u001b[1;33m)\u001b[0m\u001b[1;33m,\u001b[0m \u001b[0mtag\u001b[0m\u001b[1;33m.\u001b[0m\u001b[0msplit\u001b[0m\u001b[1;33m(\u001b[0m\u001b[1;33m)\u001b[0m\u001b[1;33m)\u001b[0m\u001b[1;33m:\u001b[0m\u001b[1;33m\u001b[0m\u001b[0m\n",
      "\u001b[0;31mValueError\u001b[0m: too many values to unpack (expected 2)"
     ]
    }
   ],
   "source": [
    "with open('../db/lrdb.csv', 'w', encoding='utf-8') as f:\n",
    "    f.write('%s\\n' % '\\t'.join(['eojeol', 'l', 'r', 'tag', 'lstemmed']))\n",
    "    for fname in refinement_corpus:\n",
    "        texts, texttags = load_processed_corpus(fname)\n",
    "        for text, tag in zip(texts, texttags):\n",
    "            for eojeol, eojeoltag in zip(text.split(), tag.split()):\n",
    "                if not is_all_complete_hangle(eojeol):\n",
    "                    continue\n",
    "                    \n",
    "                try:\n",
    "                    w, t = tageojeol_to_tuple(eojeoltag)\n",
    "                except:\n",
    "                    continue\n",
    "                \n",
    "                if len(t) <= 1:\n",
    "                    continue\n",
    "                if (t[0][0] != 'N' and t[0][0] != 'V'):\n",
    "                    continue\n",
    "                if is_compound_noun(t):\n",
    "                    continue\n",
    "\n",
    "                try:\n",
    "                    l, r, y, l0 = to_lr(eojeol, w, t)\n",
    "                    f.write('%s\\n' % '\\t'.join([eojeol, l, r, y, l0]))\n",
    "                except:\n",
    "                    continue"
   ]
  },
  {
   "cell_type": "code",
   "execution_count": 14,
   "metadata": {
    "collapsed": false
   },
   "outputs": [
    {
     "data": {
      "text/html": [
       "<div>\n",
       "<table border=\"1\" class=\"dataframe\">\n",
       "  <thead>\n",
       "    <tr style=\"text-align: right;\">\n",
       "      <th></th>\n",
       "      <th>eojeol</th>\n",
       "      <th>l</th>\n",
       "      <th>r</th>\n",
       "      <th>tag</th>\n",
       "      <th>lstemmed</th>\n",
       "    </tr>\n",
       "  </thead>\n",
       "  <tbody>\n",
       "  </tbody>\n",
       "</table>\n",
       "</div>"
      ],
      "text/plain": [
       "Empty DataFrame\n",
       "Columns: [eojeol, l, r, tag, lstemmed]\n",
       "Index: []"
      ]
     },
     "execution_count": 14,
     "metadata": {},
     "output_type": "execute_result"
    }
   ],
   "source": [
    "import pandas as pd\n",
    "df = pd.read_csv('../db/lrdb.csv', sep='\\t', encoding='utf-8')\n",
    "df.head()"
   ]
  },
  {
   "cell_type": "code",
   "execution_count": null,
   "metadata": {
    "collapsed": true
   },
   "outputs": [],
   "source": []
  }
 ],
 "metadata": {
  "anaconda-cloud": {},
  "kernelspec": {
   "display_name": "Python [default]",
   "language": "python",
   "name": "python3"
  },
  "language_info": {
   "codemirror_mode": {
    "name": "ipython",
    "version": 3
   },
   "file_extension": ".py",
   "mimetype": "text/x-python",
   "name": "python",
   "nbconvert_exporter": "python",
   "pygments_lexer": "ipython3",
   "version": "3.5.2"
  }
 },
 "nbformat": 4,
 "nbformat_minor": 1
}
